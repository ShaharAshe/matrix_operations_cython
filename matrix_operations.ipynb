{
 "cells": [
  {
   "cell_type": "markdown",
   "metadata": {},
   "source": [
    "# Matrix Operations\n",
    "\n",
    "This notebook demonstrates matrix operations such as multiplication, addition, subtraction, scalar multiplication, element-wise multiplication, and transposition using a custom matrix class implemented in Cython."
   ]
  },
  {
   "cell_type": "code",
   "execution_count": null,
   "metadata": {},
   "outputs": [],
   "source": [
    "from matrix_interface import Matrix\n",
    "\n",
    "def print_matrix(matrix, name):\n",
    "    print(f\"{name}:\")\n",
    "    for i in range(matrix.rows()):\n",
    "        for j in range(matrix.cols()):\n",
    "            print(matrix.get(i, j), end=' ')\n",
    "        print()\n",
    "    print()\n",
    "\n",
    "# Create large matrices for heavy tasking\n",
    "size = 1000  # Adjust the size for more complexity\n",
    "matrix_a = Matrix(size, size)\n",
    "matrix_b = Matrix(size, size)\n",
    "\n",
    "# Fill matrices with larger values\n",
    "matrix_a.fill(5.0)\n",
    "matrix_b.fill(10.0)\n",
    "\n",
    "# Perform matrix multiplication\n",
    "matrix_c = matrix_a.multiply(matrix_b)\n",
    "\n",
    "# Perform matrix addition\n",
    "matrix_d = matrix_a.add(matrix_b)\n",
    "\n",
    "# Perform matrix subtraction\n",
    "matrix_g = matrix_a.subtract(matrix_b)\n",
    "\n",
    "# Perform scalar multiplication\n",
    "matrix_e = matrix_a.scalar_multiply(2.0)\n",
    "\n",
    "# Perform element-wise multiplication\n",
    "matrix_f = matrix_a.elementwise_multiply(matrix_b)\n",
    "\n",
    "# Perform matrix transposition\n",
    "matrix_h = matrix_a.transpose()\n",
    "\n",
    "# Print all matrices for verification\n",
    "print_matrix(matrix_a, \"Matrix A\")\n",
    "print_matrix(matrix_b, \"Matrix B\")\n",
    "print_matrix(matrix_c, \"Matrix C (A * B)\")\n",
    "print_matrix(matrix_d, \"Matrix D (A + B)\")\n",
    "print_matrix(matrix_g, \"Matrix G (A - B)\")\n",
    "print_matrix(matrix_e, \"Matrix E (A * 2.0)\")\n",
    "print_matrix(matrix_f, \"Matrix F (A elementwise B)\")\n",
    "print_matrix(matrix_h, \"Matrix H (A Transposed)\")\n"
   ]
  }
 ],
 "metadata": {
  "kernelspec": {
   "display_name": "Python 3",
   "language": "python",
   "name": "python3"
  },
  "language_info": {
   "codemirror_mode": {
    "name": "ipython",
    "version": 3
   },
   "file_extension": ".py",
   "mimetype": "text/x-python",
   "name": "python",
   "nbconvert_exporter": "python",
   "pygments_lexer": "ipython3",
   "version": "3.10.4"
  }
 },
 "nbformat": 4,
 "nbformat_minor": 5
}
